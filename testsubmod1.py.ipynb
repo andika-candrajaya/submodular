{
 "cells": [
  {
   "cell_type": "code",
   "execution_count": 1,
   "metadata": {},
   "outputs": [],
   "source": [
    "# Load standard packages\n",
    "import matplotlib.pyplot as plt\n",
    "import scipy.spatial.distance as dist\n",
    "import numpy as np\n",
    "import importlib\n",
    "%matplotlib inline\n",
    "\n",
    "# Load submodular package\n",
    "import gm_submodular"
   ]
  },
  {
   "cell_type": "code",
   "execution_count": 2,
   "metadata": {},
   "outputs": [],
   "source": [
    "# Load examples\n",
    "import gm_submodular.example_objectives as ex"
   ]
  },
  {
   "cell_type": "code",
   "execution_count": null,
   "metadata": {},
   "outputs": [],
   "source": [
    "#masukin data point di sini, ganti St.x dengan datapoint (bisa dummy, lebih baik ambil data entah dari mana)\n",
    "dPoint = ([])"
   ]
  },
  {
   "cell_type": "code",
   "execution_count": 3,
   "metadata": {},
   "outputs": [],
   "source": [
    "num_points=100\n",
    "class St(gm_submodular.DataElement):\n",
    "    budget=5\n",
    "    #nanti si x diganti pake dPoint\n",
    "    x=np.random.rand(num_points,2)\n",
    "    dist_v=dist.pdist(x)\n",
    "    Y=np.ones(num_points)\n",
    "    def getCosts(self):\n",
    "        return np.ones(num_points)\n",
    "    def getDistances(self):\n",
    "        d=dist.squareform(self.dist_v)\n",
    "        return np.multiply(d,d)\n",
    "S=St()\n"
   ]
  },
  {
   "cell_type": "code",
   "execution_count": null,
   "metadata": {},
   "outputs": [],
   "source": [
    "#disini jalankan fungsi add/delete data\n",
    "def emData():\n",
    "    return 0\n",
    "def remData(idx):\n",
    "    dPoint.pop(idx)\n",
    "    return dPoint\n"
   ]
  },
  {
   "cell_type": "code",
   "execution_count": 4,
   "metadata": {},
   "outputs": [],
   "source": [
    "importlib.reload(ex)\n",
    "importlib.reload(gm_submodular)\n",
    "# Define the desired objectives\n",
    "objectives=[ex.representativeness_shell(S), ex.random_shell(S)]\n",
    "weights=[1,0]\n",
    "\n",
    "# Maximize the objectives\n",
    "selected_elements,score,minoux_bound=gm_submodular.leskovec_maximize(S,weights,objectives,budget=5)"
   ]
  },
  {
   "cell_type": "code",
   "execution_count": 6,
   "metadata": {},
   "outputs": [
    {
     "name": "stdout",
     "output_type": "stream",
     "text": [
      "Selected points: 8 53 62 41 69\n"
     ]
    },
    {
     "data": {
      "text/plain": [
       "Text(0.5,1,'greedy k-medoids solution')"
      ]
     },
     "execution_count": 6,
     "metadata": {},
     "output_type": "execute_result"
    },
    {
     "data": {
      "image/png": "[encoded data removed]",
      "text/plain": [
       "<matplotlib.figure.Figure at 0xac7b186c>"
      ]
     },
     "metadata": {},
     "output_type": "display_data"
    }
   ],
   "source": [
    "# Plot results\n",
    "plt.figure(figsize=(10,10)) # Definition of a larger figure (in inches)\n",
    "plt.scatter(S.x[:,0],S.x[:,1], c='blue', alpha=0.66, s=30, linewidths=2)\n",
    "plt.scatter(S.x[selected_elements,0],S.x[selected_elements,1], c='red', s=100, alpha=0.66, linewidths=2)\n",
    "print('Selected points: %s' % ' '.join(map(lambda x: str(x),selected_elements)))\n",
    "plt.title('greedy k-medoids solution')"
   ]
  },
  {
   "cell_type": "code",
   "execution_count": 38,
   "metadata": {},
   "outputs": [],
   "source": [
    "# Create tranining data (use result of the k-modoid objective)\n",
    "training_examples=[]\n",
    "importlib.reload(gm_submodular)\n",
    "gm_submodular.logger.setLevel('DEBUG')\n",
    "for i in range(0,50):\n",
    "    S=St()\n",
    "    S.budget=10\n",
    "    S.clusters=np.array(np.random.rand(len(S.x))*5,np.int)\n",
    "    selected_elements,score,_=gm_submodular.leskovec_maximize(S,weights,objectives,S.budget)\n",
    "    S.y_gt=selected_elements\n",
    "    training_examples.append(S)\n",
    "    "
   ]
  },
  {
   "cell_type": "code",
   "execution_count": 39,
   "metadata": {},
   "outputs": [],
   "source": [
    "# Learn the weights. Given that we used the k-medoid results as ground truth, this objective should get all the weight\n",
    "shells=[ex.representativeness_shell,ex.random_shell,ex.random_shell,ex.random_shell,ex.random_shell]\n",
    "loss=ex.intersect_complement_loss\n",
    "\n",
    "# Use AdaGrad and a l-1 semiball projection (leads to sparser solutions, i.e. is more robust to noise)\n",
    "#params=gm_submodular.SGDparams(use_l1_projection=True,max_iter=10,use_ada_grad=True)\n",
    "\n",
    "#Alternatively, one could use vanilla SGD\n",
    "params=gm_submodular.SGDparams()\n"
   ]
  },
  {
   "cell_type": "code",
   "execution_count": 40,
   "metadata": {},
   "outputs": [
    {
     "name": "stderr",
     "output_type": "stream",
     "text": [
      "Break without convergence\n",
      "\n"
     ]
    }
   ],
   "source": [
    "#############\n",
    "# LEARNING\n",
    "# The weights are learnt using SGD (Note: This hardly converges, so define a reasonable number of maximal iterations)\n",
    "# Also, given the stochasticity of the learning, you can expect some variance in the results.\n",
    "####\n",
    "learnt_weights,_=gm_submodular.learnSubmodularMixture(training_examples, shells,loss,params=params)\n",
    "\n",
    "\n",
    "\n"
   ]
  },
  {
   "cell_type": "code",
   "execution_count": 41,
   "metadata": {},
   "outputs": [
    {
     "data": {
      "image/png": "[encoded data removed]",
      "text/plain": [
       "<matplotlib.figure.Figure at 0xac388c4c>"
      ]
     },
     "metadata": {},
     "output_type": "display_data"
    }
   ],
   "source": [
    "# Plot the learnt weights\n",
    "width = 0.3\n",
    "plt.bar(np.arange(0,len(learnt_weights)),learnt_weights,width)\n",
    "plt.xticks(np.arange(0,len(learnt_weights))+learnt_weights/2., map(lambda x: x.__name__, shells))\n",
    "plt.title('Learnt weights')\n",
    "plt.grid()"
   ]
  }
 ],
 "metadata": {
  "kernelspec": {
   "display_name": "Python 3",
   "language": "python",
   "name": "python3"
  },
  "language_info": {
   "codemirror_mode": {
    "name": "ipython",
    "version": 3
   },
   "file_extension": ".py",
   "mimetype": "text/x-python",
   "name": "python",
   "nbconvert_exporter": "python",
   "pygments_lexer": "ipython3",
   "version": "3.5.2"
  }
 },
 "nbformat": 4,
 "nbformat_minor": 2
}
